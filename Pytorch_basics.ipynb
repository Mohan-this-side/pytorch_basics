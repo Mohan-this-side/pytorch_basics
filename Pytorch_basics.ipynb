{
  "nbformat": 4,
  "nbformat_minor": 0,
  "metadata": {
    "colab": {
      "provenance": [],
      "gpuType": "L4",
      "authorship_tag": "ABX9TyMv40QrcFuqjjHL3zf6ua0b",
      "include_colab_link": true
    },
    "kernelspec": {
      "name": "python3",
      "display_name": "Python 3"
    },
    "language_info": {
      "name": "python"
    },
    "accelerator": "GPU"
  },
  "cells": [
    {
      "cell_type": "markdown",
      "metadata": {
        "id": "view-in-github",
        "colab_type": "text"
      },
      "source": [
        "<a href=\"https://colab.research.google.com/github/Mohan-this-side/pytorch_basics/blob/main/Pytorch_basics.ipynb\" target=\"_parent\"><img src=\"https://colab.research.google.com/assets/colab-badge.svg\" alt=\"Open In Colab\"/></a>"
      ]
    },
    {
      "cell_type": "markdown",
      "source": [
        "## Tensors:"
      ],
      "metadata": {
        "id": "gM_1PdSl-nZP"
      }
    },
    {
      "cell_type": "code",
      "execution_count": 1,
      "metadata": {
        "id": "AG1iEyVj9BaA"
      },
      "outputs": [],
      "source": [
        "import torch\n",
        "import numpy as np"
      ]
    },
    {
      "cell_type": "markdown",
      "source": [
        "## Lists"
      ],
      "metadata": {
        "id": "vIE20w5k_OL2"
      }
    },
    {
      "cell_type": "code",
      "source": [
        "my_list = [[1,2,3,4,5],[6,7,8,9,10]]\n",
        "my_list"
      ],
      "metadata": {
        "colab": {
          "base_uri": "https://localhost:8080/"
        },
        "id": "3dROfgun-ww1",
        "outputId": "f52f11d9-8c9c-4c2a-919f-e93c62868312"
      },
      "execution_count": 2,
      "outputs": [
        {
          "output_type": "execute_result",
          "data": {
            "text/plain": [
              "[[1, 2, 3, 4, 5], [6, 7, 8, 9, 10]]"
            ]
          },
          "metadata": {},
          "execution_count": 2
        }
      ]
    },
    {
      "cell_type": "markdown",
      "source": [
        "## Numpy Arrays"
      ],
      "metadata": {
        "id": "mE8PC49n_WtE"
      }
    },
    {
      "cell_type": "code",
      "source": [
        "np1 = np.random.rand(3,4)\n",
        "np1"
      ],
      "metadata": {
        "colab": {
          "base_uri": "https://localhost:8080/"
        },
        "id": "xguYFWkY_Rgg",
        "outputId": "7054d628-b0ca-4f37-eda0-a3b916f022e7"
      },
      "execution_count": 3,
      "outputs": [
        {
          "output_type": "execute_result",
          "data": {
            "text/plain": [
              "array([[0.95579971, 0.69249491, 0.40817843, 0.27655218],\n",
              "       [0.16169163, 0.95732152, 0.03967294, 0.01647334],\n",
              "       [0.39665511, 0.94423911, 0.9184106 , 0.73149397]])"
            ]
          },
          "metadata": {},
          "execution_count": 3
        }
      ]
    },
    {
      "cell_type": "markdown",
      "source": [
        "## Tensors"
      ],
      "metadata": {
        "id": "gDjAJWdKAiT8"
      }
    },
    {
      "cell_type": "code",
      "source": [
        "tonsor_2d = torch.randn(3,4)\n",
        "tonsor_2d"
      ],
      "metadata": {
        "colab": {
          "base_uri": "https://localhost:8080/"
        },
        "id": "NFgVbH9k_eH5",
        "outputId": "aed95f93-1eef-443d-cb32-1945006d45e1"
      },
      "execution_count": 4,
      "outputs": [
        {
          "output_type": "execute_result",
          "data": {
            "text/plain": [
              "tensor([[-0.1793, -0.9970,  0.0753, -0.1856],\n",
              "        [-0.9939, -0.3224,  1.1477,  0.2963],\n",
              "        [-0.8082, -0.6993, -0.2037, -1.0833]])"
            ]
          },
          "metadata": {},
          "execution_count": 4
        }
      ]
    },
    {
      "cell_type": "code",
      "source": [],
      "metadata": {
        "id": "QmGRoFamAu69"
      },
      "execution_count": null,
      "outputs": []
    }
  ]
}